{
 "cells": [
  {
   "cell_type": "markdown",
   "metadata": {
    "id": "xc_bzszTF-hs"
   },
   "source": [
    "**Background**\n",
    "\n",
    "---\n",
    "\n",
    "\n",
    "Cellular communications, especially with the advent of 5G mobile networks, demand stringent adherence to high-reliability standards, ultra-low latency, increased capacity, enhanced security, and high-speed user connectivity. To fulfill these requirements, mobile operators require a programmable solution capable of supporting multiple independent tenants on a single physical infrastructure. The advent of 5G networks facilitates end-to-end resource allocation through Network Slicing (NS), which allows for the division of the network into distinct virtual slices.\n",
    "\n",
    "Network slicing in 5G is instrumental in provisioning tailored network services for specific use cases, ensuring optimal performance, resource utilization, and user experiences based on the requirements of eMBB, URLLC, and mMTC applications. This dataset is invaluable for researchers and practitioners aiming to design and implement ML models for network slice prediction, thereby enhancing the operational efficiency and reliability of 5G networks.\n",
    "\n",
    "**Data Attributes (Columns Desc)**\n",
    "\n",
    "---\n",
    "\n",
    "\n",
    "\n",
    "* Device ID: Unique identifier for each device.\n",
    "* Connection Type: Specifies the type of connection (e.g., LTE, 5G).\n",
    "* Latency Requirements (ms): The maximum allowable latency for the device's operation.\n",
    "* Bandwidth Requirements (Mbps): The bandwidth needed for optimal device performance.\n",
    "* Reliability (%): The required reliability level for the device's connection.\n",
    "* Data Rate (Mbps): The data rate the device can handle.\n",
    "* Device Type: Categorizes the device (e.g., smartphone, IoT sensor).\n",
    "* Mobility (Low/Medium/High): Indicates the mobility level of the device.\n",
    "* Battery Life (hours): Expected battery life of the device.\n",
    "* Application Type: The primary application for the device's connection (e.g., video streaming, industrial control).\n",
    "\n"
   ]
  },
  {
   "cell_type": "code",
   "execution_count": 8,
   "metadata": {
    "colab": {
     "base_uri": "https://localhost:8080/"
    },
    "id": "n61vUjyZuBV7",
    "outputId": "f28f5820-95e8-4fc5-9195-7154bd50f535"
   },
   "outputs": [
    {
     "name": "stdout",
     "output_type": "stream",
     "text": [
      "TensorFlow version: 2.17.0\n"
     ]
    }
   ],
   "source": [
    "import tensorflow as tf\n",
    "import pandas as pd\n",
    "from sklearn.model_selection import train_test_split\n",
    "from sklearn.preprocessing import LabelEncoder, StandardScaler\n",
    "print(\"TensorFlow version:\", tf.__version__)"
   ]
  },
  {
   "cell_type": "code",
   "execution_count": 9,
   "metadata": {
    "id": "UyohkxraJoId"
   },
   "outputs": [],
   "source": [
    "df=pd.read_csv('./deepslice_data.csv')\n",
    "# Drop the `Unnamed: 0` column\n",
    "df = df.drop(columns=['Unnamed: 0'])"
   ]
  },
  {
   "cell_type": "code",
   "execution_count": 10,
   "metadata": {
    "colab": {
     "base_uri": "https://localhost:8080/",
     "height": 310
    },
    "id": "jBfFAz9ZLzkM",
    "outputId": "e7869321-3a12-4620-f3c9-49d9ddb76d29"
   },
   "outputs": [
    {
     "data": {
      "text/html": [
       "<div>\n",
       "<style scoped>\n",
       "    .dataframe tbody tr th:only-of-type {\n",
       "        vertical-align: middle;\n",
       "    }\n",
       "\n",
       "    .dataframe tbody tr th {\n",
       "        vertical-align: top;\n",
       "    }\n",
       "\n",
       "    .dataframe thead th {\n",
       "        text-align: right;\n",
       "    }\n",
       "</style>\n",
       "<table border=\"1\" class=\"dataframe\">\n",
       "  <thead>\n",
       "    <tr style=\"text-align: right;\">\n",
       "      <th></th>\n",
       "      <th>Use Case</th>\n",
       "      <th>LTE/5g Category</th>\n",
       "      <th>Technology Supported</th>\n",
       "      <th>Day</th>\n",
       "      <th>Time</th>\n",
       "      <th>GBR</th>\n",
       "      <th>Packet Loss Rate</th>\n",
       "      <th>Packet delay</th>\n",
       "      <th>slice Type</th>\n",
       "    </tr>\n",
       "  </thead>\n",
       "  <tbody>\n",
       "    <tr>\n",
       "      <th>0</th>\n",
       "      <td>Smartphone</td>\n",
       "      <td>1</td>\n",
       "      <td>LTE/5G</td>\n",
       "      <td>sunday</td>\n",
       "      <td>1</td>\n",
       "      <td>Non-GBR</td>\n",
       "      <td>0.01</td>\n",
       "      <td>100</td>\n",
       "      <td>eMBB</td>\n",
       "    </tr>\n",
       "    <tr>\n",
       "      <th>1</th>\n",
       "      <td>Smartphone</td>\n",
       "      <td>1</td>\n",
       "      <td>LTE/5G</td>\n",
       "      <td>sunday</td>\n",
       "      <td>2</td>\n",
       "      <td>Non-GBR</td>\n",
       "      <td>0.01</td>\n",
       "      <td>100</td>\n",
       "      <td>eMBB</td>\n",
       "    </tr>\n",
       "    <tr>\n",
       "      <th>2</th>\n",
       "      <td>Smartphone</td>\n",
       "      <td>1</td>\n",
       "      <td>LTE/5G</td>\n",
       "      <td>sunday</td>\n",
       "      <td>3</td>\n",
       "      <td>Non-GBR</td>\n",
       "      <td>0.01</td>\n",
       "      <td>100</td>\n",
       "      <td>eMBB</td>\n",
       "    </tr>\n",
       "    <tr>\n",
       "      <th>3</th>\n",
       "      <td>Smartphone</td>\n",
       "      <td>1</td>\n",
       "      <td>LTE/5G</td>\n",
       "      <td>sunday</td>\n",
       "      <td>4</td>\n",
       "      <td>Non-GBR</td>\n",
       "      <td>0.01</td>\n",
       "      <td>100</td>\n",
       "      <td>eMBB</td>\n",
       "    </tr>\n",
       "    <tr>\n",
       "      <th>4</th>\n",
       "      <td>Smartphone</td>\n",
       "      <td>1</td>\n",
       "      <td>LTE/5G</td>\n",
       "      <td>sunday</td>\n",
       "      <td>5</td>\n",
       "      <td>Non-GBR</td>\n",
       "      <td>0.01</td>\n",
       "      <td>100</td>\n",
       "      <td>eMBB</td>\n",
       "    </tr>\n",
       "  </tbody>\n",
       "</table>\n",
       "</div>"
      ],
      "text/plain": [
       "     Use Case  LTE/5g Category Technology Supported     Day  Time      GBR  \\\n",
       "0  Smartphone                1               LTE/5G  sunday     1  Non-GBR   \n",
       "1  Smartphone                1               LTE/5G  sunday     2  Non-GBR   \n",
       "2  Smartphone                1               LTE/5G  sunday     3  Non-GBR   \n",
       "3  Smartphone                1               LTE/5G  sunday     4  Non-GBR   \n",
       "4  Smartphone                1               LTE/5G  sunday     5  Non-GBR   \n",
       "\n",
       "   Packet Loss Rate  Packet delay slice Type  \n",
       "0              0.01           100       eMBB  \n",
       "1              0.01           100       eMBB  \n",
       "2              0.01           100       eMBB  \n",
       "3              0.01           100       eMBB  \n",
       "4              0.01           100       eMBB  "
      ]
     },
     "execution_count": 10,
     "metadata": {},
     "output_type": "execute_result"
    }
   ],
   "source": [
    "df.head()"
   ]
  },
  {
   "cell_type": "code",
   "execution_count": 11,
   "metadata": {
    "cellView": "form",
    "colab": {
     "base_uri": "https://localhost:8080/",
     "height": 391
    },
    "id": "l1KuU4bKTEgw",
    "outputId": "4797d050-4014-49b4-ff29-01ecd49d676d"
   },
   "outputs": [
    {
     "data": {
      "image/png": "[encoded data removed]",
      "text/plain": [
       "<Figure size 800x400 with 1 Axes>"
      ]
     },
     "metadata": {},
     "output_type": "display_data"
    }
   ],
   "source": [
    "# @title Packet Loss Rate\n",
    "\n",
    "from matplotlib import pyplot as plt\n",
    "df['Packet Loss Rate'].plot(kind='line', figsize=(8, 4), title='Packet Loss Rate')\n",
    "plt.gca().spines[['top', 'right']].set_visible(False)"
   ]
  },
  {
   "cell_type": "code",
   "execution_count": 12,
   "metadata": {
    "cellView": "form",
    "colab": {
     "base_uri": "https://localhost:8080/",
     "height": 430
    },
    "id": "hUAPt-w2MLJH",
    "outputId": "4b50c732-f4c0-4d41-9254-0f5f88504c55"
   },
   "outputs": [
    {
     "data": {
      "image/png": "[encoded data removed]",
      "text/plain": [
       "<Figure size 640x480 with 1 Axes>"
      ]
     },
     "metadata": {},
     "output_type": "display_data"
    }
   ],
   "source": [
    "# @title Use Case\n",
    "\n",
    "from matplotlib import pyplot as plt\n",
    "import seaborn as sns\n",
    "df.groupby('Use Case').size().plot(kind='barh', color=sns.palettes.mpl_palette('Dark2'))\n",
    "plt.gca().spines[['top', 'right',]].set_visible(False)"
   ]
  },
  {
   "cell_type": "code",
   "execution_count": 13,
   "metadata": {
    "id": "uv17dSy8Uc-k"
   },
   "outputs": [],
   "source": [
    "from tensorflow.keras.models import Sequential\n",
    "from tensorflow.keras.layers import Dense\n",
    "from tensorflow.keras.utils import to_categorical"
   ]
  },
  {
   "cell_type": "code",
   "execution_count": 14,
   "metadata": {
    "colab": {
     "base_uri": "https://localhost:8080/"
    },
    "id": "--mDemNrL573",
    "outputId": "c9126337-0e1d-4928-f205-042f71b8d017"
   },
   "outputs": [
    {
     "name": "stdout",
     "output_type": "stream",
     "text": [
      "| LTE/5g Category   | Time   | Packet Loss Rate   | Packet delay   | slice Type   | Use Case_AR/VR/Gaming   | Use Case_Healthcare   | Use Case_Industry 4.0   | Use Case_IoT Devices   | Use Case_Public Safety   | Use Case_Smart City & Home   | Use Case_Smart Transportation   | Use Case_Smartphone   | Technology Supported_IoT(LTE-M, NB-IoT)   | Technology Supported_LTE/5G   | Day_friday   | Day_monday   | Day_saturday   | Day_sunday   | Day_thrusday   | Day_tuesday   | Day_wednesday   | GBR_GBR   | GBR_Non-GBR   |\n",
      "|:------------------|:-------|:-------------------|:---------------|:-------------|:------------------------|:----------------------|:------------------------|:-----------------------|:-------------------------|:-----------------------------|:--------------------------------|:----------------------|:------------------------------------------|:------------------------------|:-------------|:-------------|:---------------|:-------------|:---------------|:--------------|:----------------|:----------|:--------------|\n",
      "| 1                 | 1      | 0.01               | 100            | eMBB         | False                   | False                 | False                   | False                  | False                    | False                        | False                           | True                  | False                                     | True                          | False        | False        | False          | True         | False          | False         | False           | False     | True          |\n",
      "| 1                 | 2      | 0.01               | 100            | eMBB         | False                   | False                 | False                   | False                  | False                    | False                        | False                           | True                  | False                                     | True                          | False        | False        | False          | True         | False          | False         | False           | False     | True          |\n",
      "| 1                 | 3      | 0.01               | 100            | eMBB         | False                   | False                 | False                   | False                  | False                    | False                        | False                           | True                  | False                                     | True                          | False        | False        | False          | True         | False          | False         | False           | False     | True          |\n",
      "| 1                 | 4      | 0.01               | 100            | eMBB         | False                   | False                 | False                   | False                  | False                    | False                        | False                           | True                  | False                                     | True                          | False        | False        | False          | True         | False          | False         | False           | False     | True          |\n",
      "| 1                 | 5      | 0.01               | 100            | eMBB         | False                   | False                 | False                   | False                  | False                    | False                        | False                           | True                  | False                                     | True                          | False        | False        | False          | True         | False          | False         | False           | False     | True          |\n"
     ]
    }
   ],
   "source": [
    "# List of categorical columns\n",
    "cat_cols = ['Use Case', 'Technology Supported', 'Day', 'GBR']\n",
    "\n",
    "# One-hot encode categorical columns\n",
    "new_var = pd.get_dummies\n",
    "df_encoded = new_var(df, columns=cat_cols )\n",
    "\n",
    "# Separate features and target\n",
    "X = df_encoded.drop('slice Type', axis=1)\n",
    "y = df_encoded['slice Type']\n",
    "\n",
    "# Encode the target variable\n",
    "le = LabelEncoder()\n",
    "y = le.fit_transform(y)\n",
    "\n",
    "# Split data into train and test sets\n",
    "X_train, X_test, y_train, y_test = train_test_split(X, y, test_size=0.2, stratify=y, random_state=42)\n",
    "\n",
    "\n",
    "# Standardize numerical features\n",
    "scaler = StandardScaler()\n",
    "X_train = scaler.fit_transform(X_train)\n",
    "X_test = scaler.transform(X_test)\n",
    "\n",
    "# Display the first 5 rows of the encoded dataframe\n",
    "print(df_encoded.head().to_markdown(index=False, numalign=\"left\", stralign=\"left\"))"
   ]
  },
  {
   "cell_type": "code",
   "execution_count": 15,
   "metadata": {
    "colab": {
     "base_uri": "https://localhost:8080/"
    },
    "id": "MdALqIijT8uk",
    "outputId": "5aeb45bf-e012-4bf1-85cd-5132149e75d6"
   },
   "outputs": [
    {
     "name": "stderr",
     "output_type": "stream",
     "text": [
      "D:\\projects\\5G_6G\\env\\Lib\\site-packages\\keras\\src\\layers\\core\\dense.py:87: UserWarning: Do not pass an `input_shape`/`input_dim` argument to a layer. When using Sequential models, prefer using an `Input(shape)` object as the first layer in the model instead.\n",
      "  super().__init__(activity_regularizer=activity_regularizer, **kwargs)\n"
     ]
    },
    {
     "name": "stdout",
     "output_type": "stream",
     "text": [
      "Epoch 1/5\n",
      "\u001b[1m1580/1580\u001b[0m \u001b[32m━━━━━━━━━━━━━━━━━━━━\u001b[0m\u001b[37m\u001b[0m \u001b[1m9s\u001b[0m 3ms/step - accuracy: 0.9682 - loss: 0.1014 - val_accuracy: 1.0000 - val_loss: 2.2538e-05\n",
      "Epoch 2/5\n",
      "\u001b[1m1580/1580\u001b[0m \u001b[32m━━━━━━━━━━━━━━━━━━━━\u001b[0m\u001b[37m\u001b[0m \u001b[1m5s\u001b[0m 3ms/step - accuracy: 1.0000 - loss: 1.5589e-05 - val_accuracy: 1.0000 - val_loss: 4.3782e-06\n",
      "Epoch 3/5\n",
      "\u001b[1m1580/1580\u001b[0m \u001b[32m━━━━━━━━━━━━━━━━━━━━\u001b[0m\u001b[37m\u001b[0m \u001b[1m5s\u001b[0m 3ms/step - accuracy: 1.0000 - loss: 3.3822e-06 - val_accuracy: 1.0000 - val_loss: 1.3548e-06\n",
      "Epoch 4/5\n",
      "\u001b[1m1580/1580\u001b[0m \u001b[32m━━━━━━━━━━━━━━━━━━━━\u001b[0m\u001b[37m\u001b[0m \u001b[1m5s\u001b[0m 3ms/step - accuracy: 1.0000 - loss: 1.0947e-06 - val_accuracy: 1.0000 - val_loss: 4.9003e-07\n",
      "Epoch 5/5\n",
      "\u001b[1m1580/1580\u001b[0m \u001b[32m━━━━━━━━━━━━━━━━━━━━\u001b[0m\u001b[37m\u001b[0m \u001b[1m10s\u001b[0m 3ms/step - accuracy: 1.0000 - loss: 4.0241e-07 - val_accuracy: 1.0000 - val_loss: 1.8814e-07\n"
     ]
    }
   ],
   "source": [
    "# Build the model\n",
    "model = Sequential()\n",
    "\n",
    "# Input layer with 64 neurons and 'relu' activation.\n",
    "# The input_shape is determined by the number of features in your preprocessed data.\n",
    "model.add(Dense(64, activation='relu', input_shape=(X_train.shape[1],)))\n",
    "\n",
    "# Hidden layers with 32 and 16 neurons respectively, also using 'relu' activation\n",
    "model.add(Dense(32, activation='relu'))\n",
    "model.add(Dense(16, activation='relu'))\n",
    "\n",
    "# Output layer with number of neurons equal to the number of classes in 'slice Type'\n",
    "# 'softmax' activation is used for multi-class classification\n",
    "model.add(Dense(len(le.classes_), activation='softmax'))\n",
    "\n",
    "# Compile the model\n",
    "# 'sparse_categorical_crossentropy' is suitable when your target variable is integer encoded\n",
    "# 'adam' is a popular optimizer\n",
    "model.compile(loss='sparse_categorical_crossentropy', optimizer='adam', metrics=['accuracy'])\n",
    "\n",
    "# Train the model\n",
    "# 'epochs' is the number of times the model will see the entire training data\n",
    "# 'validation_data' is used to evaluate the model after each epoch on unseen data\n",
    "history = model.fit(X_train, y_train, epochs=5, validation_data=(X_test, y_test))\n",
    "\n",
    "\n"
   ]
  },
  {
   "cell_type": "code",
   "execution_count": 16,
   "metadata": {
    "colab": {
     "base_uri": "https://localhost:8080/"
    },
    "id": "rbuj_R5hT86p",
    "outputId": "9580ee1f-9e4d-4f2e-fdc5-71c0f7a6785a"
   },
   "outputs": [
    {
     "name": "stdout",
     "output_type": "stream",
     "text": [
      "\u001b[1m395/395\u001b[0m \u001b[32m━━━━━━━━━━━━━━━━━━━━\u001b[0m\u001b[37m\u001b[0m \u001b[1m1s\u001b[0m 2ms/step - accuracy: 1.0000 - loss: 1.9012e-07\n",
      "Test accuracy: 1.0\n"
     ]
    }
   ],
   "source": [
    "# Evaluate the model on the test set\n",
    "test_loss, test_acc = model.evaluate(X_test, y_test)\n",
    "\n",
    "print(f'Test accuracy: {test_acc}')"
   ]
  }
 ],
 "metadata": {
  "accelerator": "GPU",
  "colab": {
   "gpuType": "T4",
   "provenance": []
  },
  "kernelspec": {
   "display_name": "Python 3 (ipykernel)",
   "language": "python",
   "name": "python3"
  },
  "language_info": {
   "codemirror_mode": {
    "name": "ipython",
    "version": 3
   },
   "file_extension": ".py",
   "mimetype": "text/x-python",
   "name": "python",
   "nbconvert_exporter": "python",
   "pygments_lexer": "ipython3",
   "version": "3.12.4"
  }
 },
 "nbformat": 4,
 "nbformat_minor": 4
}
